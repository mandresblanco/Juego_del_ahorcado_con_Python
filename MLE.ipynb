{
  "nbformat": 4,
  "nbformat_minor": 0,
  "metadata": {
    "colab": {
      "name": "Untitled3.ipynb",
      "provenance": [],
      "authorship_tag": "ABX9TyNtgx7iiA3areLqZ+c8qpAi",
      "include_colab_link": true
    },
    "kernelspec": {
      "name": "python3",
      "display_name": "Python 3"
    },
    "language_info": {
      "name": "python"
    }
  },
  "cells": [
    {
      "cell_type": "markdown",
      "metadata": {
        "id": "view-in-github",
        "colab_type": "text"
      },
      "source": [
        "<a href=\"https://colab.research.google.com/github/mandresblanco/Juego_del_ahorcado_con_Python/blob/main/MLE.ipynb\" target=\"_parent\"><img src=\"https://colab.research.google.com/assets/colab-badge.svg\" alt=\"Open In Colab\"/></a>"
      ]
    },
    {
      "cell_type": "code",
      "metadata": {
        "id": "glgp6N3lTirr"
      },
      "source": [
        "import pandas as pd\n",
        "import numpy as np\n",
        "import matplotlib.pyplot as plt"
      ],
      "execution_count": 2,
      "outputs": []
    },
    {
      "cell_type": "code",
      "metadata": {
        "colab": {
          "base_uri": "https://localhost:8080/",
          "height": 316
        },
        "id": "XIplWzpbTqS1",
        "outputId": "d8726ddc-946d-467e-b019-857f57ffdb6c"
      },
      "source": [
        "df = pd.read_excel('s057.xls')\n",
        "# df\n",
        "arr = df['Normally Distributed Housefly Wing Lengths'].values[4:]\n",
        "\n",
        "values, dist = np.unique(arr, return_counts=True)\n",
        "# arr\n",
        "print(values,'\\n',dist)\n",
        "plt.bar(values, dist) "
      ],
      "execution_count": 16,
      "outputs": [
        {
          "output_type": "stream",
          "text": [
            "[37 38 39 40 41 42 43 44 45 46 47 48 49 50 51 52 53 54 55] \n",
            " [ 1  2  2  4  6  7  8  9 10 10  9  8  7  6  4  2  2  1  1]\n"
          ],
          "name": "stdout"
        },
        {
          "output_type": "execute_result",
          "data": {
            "text/plain": [
              "<BarContainer object of 19 artists>"
            ]
          },
          "metadata": {
            "tags": []
          },
          "execution_count": 16
        },
        {
          "output_type": "display_data",
          "data": {
            "image/png": "[encoded data removed]",
            "text/plain": [
              "<Figure size 432x288 with 1 Axes>"
            ]
          },
          "metadata": {
            "tags": [],
            "needs_background": "light"
          }
        }
      ]
    },
    {
      "cell_type": "code",
      "metadata": {
        "colab": {
          "base_uri": "https://localhost:8080/"
        },
        "id": "8EXraf0kaNe1",
        "outputId": "e8c2b993-a093-4524-8234-8569dbbaeae9"
      },
      "source": [
        "## parámetros optimos a partir del cálculo con MLE\n",
        "\n",
        "def optimal_mu(arr=arr):\n",
        "  n=100\n",
        "  mu=0\n",
        "  for value in arr:\n",
        "    mu = value + mu\n",
        "  return mu/n\n",
        "\n",
        "# print(optimal_mu())\n",
        " \n",
        "def optimal_sigma(arr=arr):\n",
        "   sigma= 0\n",
        "   n=100\n",
        "   for x in arr:\n",
        "     sigma = (x-optimal_mu())**2 + sigma\n",
        "   return (sigma/n)**0.5\n",
        "\n",
        "print(optimal_mu(), arr.mean())\n",
        "print(optimal_sigma(), arr.std())"
      ],
      "execution_count": 17,
      "outputs": [
        {
          "output_type": "stream",
          "text": [
            "45.14 45.5959595959596\n",
            "3.8084385251701267 3.8003699764580126\n"
          ],
          "name": "stdout"
        }
      ]
    },
    {
      "cell_type": "code",
      "metadata": {
        "colab": {
          "base_uri": "https://localhost:8080/",
          "height": 282
        },
        "id": "LdBXH-p9aa8y",
        "outputId": "cc5f5198-3cc9-46cd-8ef5-848110ab2e92"
      },
      "source": [
        "from scipy.stats import norm \n",
        "\n",
        "values, dist = np.unique(arr, return_counts=True)\n",
        "plt.bar(values, dist/len(arr)) \n",
        "\n",
        "dist = norm(optimal_mu(), optimal_sigma())\n",
        "x = np.arange(30, 60, 0.1)\n",
        "y = [dist.pdf(value) for value in x]\n",
        "plt.plot(x,y)"
      ],
      "execution_count": 18,
      "outputs": [
        {
          "output_type": "execute_result",
          "data": {
            "text/plain": [
              "[<matplotlib.lines.Line2D at 0x7fe489391e90>]"
            ]
          },
          "metadata": {
            "tags": []
          },
          "execution_count": 18
        },
        {
          "output_type": "display_data",
          "data": {
            "image/png": "[encoded data removed]",
            "text/plain": [
              "<Figure size 432x288 with 1 Axes>"
            ]
          },
          "metadata": {
            "tags": [],
            "needs_background": "light"
          }
        }
      ]
    },
    {
      "cell_type": "code",
      "metadata": {
        "id": "7FGf5xHJTtZc"
      },
      "source": [
        ""
      ],
      "execution_count": null,
      "outputs": []
    }
  ]
}